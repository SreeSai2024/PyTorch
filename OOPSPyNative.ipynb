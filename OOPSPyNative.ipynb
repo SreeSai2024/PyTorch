{
  "nbformat": 4,
  "nbformat_minor": 0,
  "metadata": {
    "colab": {
      "provenance": [],
      "include_colab_link": true
    },
    "kernelspec": {
      "name": "python3",
      "display_name": "Python 3"
    },
    "language_info": {
      "name": "python"
    }
  },
  "cells": [
    {
      "cell_type": "markdown",
      "metadata": {
        "id": "view-in-github",
        "colab_type": "text"
      },
      "source": [
        "<a href=\"https://colab.research.google.com/github/SreeSai2024/PyTorch/blob/main/OOPSPyNative.ipynb\" target=\"_parent\"><img src=\"https://colab.research.google.com/assets/colab-badge.svg\" alt=\"Open In Colab\"/></a>"
      ]
    },
    {
      "cell_type": "markdown",
      "source": [
        "Internally, the __new__ is the method that creates the object\n",
        "And, using the __init__() method we can implement constructor to initialize the object."
      ],
      "metadata": {
        "id": "yqLnOE3RBmJq"
      }
    },
    {
      "cell_type": "markdown",
      "source": [
        "#VARIABLE TYPES"
      ],
      "metadata": {
        "id": "gl7SV-8V6h6w"
      }
    },
    {
      "cell_type": "markdown",
      "source": [
        "Syntax for object creation: object-name = class-name(arguments)"
      ],
      "metadata": {
        "id": "63xbFvPCB0xC"
      }
    },
    {
      "cell_type": "markdown",
      "source": [
        "Instance Var:      Bound to object, declared inside __init__ method"
      ],
      "metadata": {
        "id": "Jeymw4xtCd1T"
      }
    },
    {
      "cell_type": "markdown",
      "source": [
        "Class Var:    Bound to class, declared inside class, by outside of any method,shared by all the objects of the class.\n",
        "\n",
        "Value remains same in any of the object it has been called."
      ],
      "metadata": {
        "id": "BTbbWHvsCdgm"
      }
    },
    {
      "cell_type": "code",
      "execution_count": null,
      "metadata": {
        "id": "c79HDFvMAeps",
        "colab": {
          "base_uri": "https://localhost:8080/"
        },
        "outputId": "eb8fbb16-1487-4af9-b561-0ece491e8279"
      },
      "outputs": [
        {
          "output_type": "stream",
          "name": "stdout",
          "text": [
            "Student: Harry 13\n",
            "School Name: ABC School\n",
            "Student after modifying: Sree Sai 23\n",
            "School name after modifying: DAV public school\n"
          ]
        }
      ],
      "source": [
        "class Student:\n",
        "\n",
        "  school_name=\"ABC School\" #class variables\n",
        "\n",
        "  def __init__(self,name,age): #instance variables\n",
        "    self.name=name\n",
        "    self.age=age\n",
        "\n",
        "s1=Student(\"Harry\",13)\n",
        "print('Student:',s1.name,s1.age) #accessing instance variables\n",
        "\n",
        "print('School Name:',Student.school_name) #accessing class variables\n",
        "\n",
        "s1.name='Sree Sai' #modifying instance variables\n",
        "s1.age='23'\n",
        "print('Student after modifying:',s1.name,s1.age)\n",
        "\n",
        "Student.school_name='DAV public school'\n",
        "print('School name after modifying:',Student.school_name)\n",
        "\n"
      ]
    },
    {
      "cell_type": "markdown",
      "source": [
        "#CLASS METHODS:"
      ],
      "metadata": {
        "id": "KfAexiUw6mqA"
      }
    },
    {
      "cell_type": "markdown",
      "source": [
        "1)Instance Method: to access or modify the object state. \"self\" as an argument.\n",
        "\n",
        "2)Class Method: to access or modify the class state. @classmethod, \"cls\" as an argument.\n",
        "\n",
        "3)Static Method: to perform task in isolation.Can't access instance variables or class variables because _**it doesn't have access to the class attributes_**"
      ],
      "metadata": {
        "id": "3hHrnTlX6yHa"
      }
    },
    {
      "cell_type": "code",
      "source": [
        "# class methods demo\n",
        "class Student:\n",
        "    # class variable\n",
        "    school_name = 'ABC School'\n",
        "\n",
        "    # constructor\n",
        "    def __init__(self, name, age):\n",
        "        # instance variables\n",
        "        self.name = name\n",
        "        self.age = age\n",
        "\n",
        "    # instance method\n",
        "    def show(self):\n",
        "        # access instance variables and class variables\n",
        "        print('Student:', self.name, self.age, Student.school_name)\n",
        "\n",
        "    # instance method\n",
        "    def change_age(self, new_age):\n",
        "        # modify instance variable\n",
        "        self.age = new_age\n",
        "\n",
        "    # class method\n",
        "    @classmethod\n",
        "    def modify_school_name(cls, new_name):\n",
        "        # modify class variable\n",
        "        cls.school_name = new_name\n",
        "\n",
        "s1 = Student(\"Harry\", 12)\n",
        "\n",
        "# call instance methods\n",
        "s1.show()\n",
        "s1.change_age(14)\n",
        "\n",
        "# call class method\n",
        "Student.modify_school_name('XYZ School')\n",
        "# call instance methods\n",
        "s1.show()\n"
      ],
      "metadata": {
        "colab": {
          "base_uri": "https://localhost:8080/"
        },
        "id": "X8G3ffqv733Y",
        "outputId": "822ece2c-7610-43dc-caae-95df38c27a3e"
      },
      "execution_count": null,
      "outputs": [
        {
          "output_type": "stream",
          "name": "stdout",
          "text": [
            "Student: Harry 12 ABC School\n",
            "Student: Harry 14 XYZ School\n"
          ]
        }
      ]
    },
    {
      "cell_type": "markdown",
      "source": [
        "__Class Naming Conventions__:\n",
        "\n",
        "1)UpperCaseCamelCase\n",
        "\n",
        "\n",
        "2)exceptional classes should end with\"Error\"\n",
        "\n",
        "\n",
        "3)If a class is callable we can give class name like a function.\n",
        "\n",
        "\n",
        "4)in-built classes are always lower-case."
      ],
      "metadata": {
        "id": "nEL-3dUr_G6v"
      }
    },
    {
      "cell_type": "markdown",
      "source": [
        "PASS- to have an empty block of code."
      ],
      "metadata": {
        "id": "bcbKMZK0_3AD"
      }
    },
    {
      "cell_type": "markdown",
      "source": [
        "__Object Properties__ AKA __instanceVariables__\n",
        "association between name and value\n",
        "\n",
        "\n",
        "Deleting Object Properties:\n",
        "del objectname.property\n",
        "\n",
        "Deleting Object: del object_name\n"
      ],
      "metadata": {
        "id": "1a5IFCDLANcw"
      }
    },
    {
      "cell_type": "markdown",
      "source": [
        "#Cosntructors in Python\n"
      ],
      "metadata": {
        "id": "jqUkzDAiCApD"
      }
    },
    {
      "cell_type": "markdown",
      "source": [
        "Constructor is a special method used to create and initialize an object of a class.\n",
        "\n",
        "Executed automatically at the time of object creation.\n",
        "\n",
        "To declare and initialize the instance variables of the class.\n",
        "\n",
        "__init__() we can implement cosntructor to initialize the object.\n",
        "\n",
        "__new__() we can implement the constructor to initialize the object\n",
        "\n",
        "creating the python constructor is __optional__.Python automatically generates constructor if it is not defined explicitly."
      ],
      "metadata": {
        "id": "rMf741BUCLCx"
      }
    },
    {
      "cell_type": "markdown",
      "source": [
        "__TYPES OF CONSTRUCTORS:__\n",
        "\n",
        "1) Default: inserted into the code implicitly, during the time of compilation.Only when user did'nt define any constructor explicitly.\n",
        "\n",
        "2)Non-Parameterized: def __init__(self) to initialize each object with default values and fixed for all the objects created.\n",
        "\n",
        "3)Parameterized: def __init__(self,v1,v2...vn).Allows to pass different values as parameters during the time of each object creation."
      ],
      "metadata": {
        "id": "Ih8EptkgEp8N"
      }
    },
    {
      "cell_type": "code",
      "source": [
        "class Student:\n",
        "  def __init__(self,name=\"Sai\",age=22): #default constructor\n",
        "    self.name=name\n",
        "    self.age=age\n",
        "\n",
        "  def studentdetails(self): #Non-Parameterized Constructor\n",
        "    self.name='Sree Sai'\n",
        "    self.age='23'\n",
        "\n",
        "  def studentdetails1(self,name,age): #Parameterized Constructor:\n",
        "    self.name=name\n",
        "    self.age=age\n",
        "print('Default Constructor: ')\n",
        "s1=Student()\n",
        "print(s1.name,s1.age)\n",
        "\n",
        "print('Non-Parameterized Constructor:')\n",
        "s1.studentdetails()\n",
        "print(s1.name,s1.age)\n",
        "\n",
        "print(\"Parameterized Constructor:\")\n",
        "s1.studentdetails1(\"Adusumilli\",220)\n",
        "print(s1.name,s1.age)"
      ],
      "metadata": {
        "colab": {
          "base_uri": "https://localhost:8080/"
        },
        "id": "KkY6hHKGEiVt",
        "outputId": "15c5af32-fe65-46a7-b653-37e5b0fb4d24"
      },
      "execution_count": null,
      "outputs": [
        {
          "output_type": "stream",
          "name": "stdout",
          "text": [
            "Default Constructor: \n",
            "Sai 22\n",
            "Non-Parameterized Constructor:\n",
            "Sree Sai 23\n",
            "Parameterized Constructor:\n",
            "Adusumilli 220\n"
          ]
        }
      ]
    },
    {
      "cell_type": "markdown",
      "source": [
        "Self Keyword in Python: to access the instance varibales\n"
      ],
      "metadata": {
        "id": "wVBcn9DAH8ON"
      }
    },
    {
      "cell_type": "markdown",
      "source": [
        "__CONSTRUCTOR OVERLOADING:__\n",
        "\n",
        "Python doesn't support constructor overloading. If there are more than 1 constructor, it will consider the last constructor and throws an error if the sequence of actions doesn't match as per the last constructor."
      ],
      "metadata": {
        "id": "fx47CRt0IgXB"
      }
    },
    {
      "cell_type": "code",
      "source": [
        "class Student:\n",
        "    # one argument constructor\n",
        "    def __init__(self, name):\n",
        "        print(\"One arguments constructor\")\n",
        "        self.name = name\n",
        "\n",
        "    # two argument constructor\n",
        "    def __init__(self, name, age):\n",
        "        print(\"Two arguments constructor\")\n",
        "        self.name = name\n",
        "        self.age = age\n",
        "\n",
        "#creating first object\n",
        "emma = Student('Emma')\n",
        "\n",
        "#creating Second object\n",
        "kelly = Student('Kelly', 13)\n",
        " #throws an error"
      ],
      "metadata": {
        "id": "xgZWJ94wLi8V"
      },
      "execution_count": null,
      "outputs": []
    },
    {
      "cell_type": "markdown",
      "source": [
        "__CONSTRUCTOR CHAINING__\n",
        "\n",
        "Using __Super( )__ keyword, for calling the constrcutor from another constructor.\n",
        "\n",
        "Constructor chaining is convinient when we are dealing with __Inheritence__.\n"
      ],
      "metadata": {
        "id": "NK2OHAaWLnAb"
      }
    },
    {
      "cell_type": "markdown",
      "source": [
        "#DESTRUCTORS\n"
      ],
      "metadata": {
        "id": "vyV6-9sULm5e"
      }
    },
    {
      "cell_type": "markdown",
      "source": [
        "A destructor is called when an object is deleted or destroyed.\n",
        "\n",
        "deletes the objects that releases the resource occupied by the object.\n",
        "\n",
        "Destructor gets called either:\n",
        "\n",
        "1)When an object goes out of scope or\n",
        "\n",
        "2)The reference counter of the object reaches 0.\n",
        "\n",
        "__del__ method to define a destructor.\n",
        "\n"
      ],
      "metadata": {
        "id": "zZTmRWKlQf4O"
      }
    },
    {
      "cell_type": "markdown",
      "source": [
        "#POLYMORPHISM\n",
        "A method can process objects differently depending on the class type or data type.\n",
        "\n",
        "__1) Method Overriding__: The process of re-implementing same method in the sub class as that of super class is called methdod overriding.\n",
        "\n",
        "Advantages of Method Overriding:\n",
        "\n",
        "-to extend the functionality by altering the inherited method.\n",
        "\n",
        "-when parent class has more child classes, and one of them wants to redefine the parent method, then method overriding comes into picture.No need to change the parent class method, just simply redefine in the child class which wants to be re defined and the remmaining child classes can use the same parent method.\n",
        "\n",
        "\n",
        "\n",
        "\n"
      ],
      "metadata": {
        "id": "4VP_4YUVSBqE"
      }
    },
    {
      "cell_type": "code",
      "source": [
        "class Vehicle:\n",
        "\n",
        "  def __init__(self,name,color,price):\n",
        "    self.name=name\n",
        "    self.color=color\n",
        "    self.price=price\n",
        "\n",
        "  def show(self):\n",
        "    print('Details: ',self.name,self.color,self.price)\n",
        "\n",
        "  def max_speed(self):\n",
        "    print('Vehicle max speed is 150KMPH')\n",
        "\n",
        "  def change_gear(self):\n",
        "    print(\"This vehicle changes 6 gear\")\n",
        "\n",
        "class Car(Vehicle):\n",
        "\n",
        "  def max_speed(self):\n",
        "    print('Car max speed is 200KMPH')\n",
        "\n",
        "  def change_gear(self):\n",
        "    print(\"This car changes 7 gear\")\n",
        "\n",
        "#Child class object\n",
        "car = Car('Car','Black',20000)\n",
        "\n",
        "print(\"\\nCalling the Vehicle show method to print car details\")\n",
        "car.show()\n",
        "\n",
        "print('\\nCalling the overriden methods from Car sub class')\n",
        "car.max_speed()\n",
        "car.change_gear()\n",
        "\n",
        "#Vehicle Class Object:\n",
        "vehicle=Vehicle('Truck','White',75000)\n",
        "\n",
        "print(\"\\nCalling the Vehicle show method\")\n",
        "vehicle.show()\n",
        "\n",
        "print('\\nCalling the methods from Vehicle super class')\n",
        "vehicle.max_speed()\n",
        "vehicle.change_gear()\n"
      ],
      "metadata": {
        "colab": {
          "base_uri": "https://localhost:8080/"
        },
        "id": "R4HFwVnYLk9z",
        "outputId": "f2bdbac1-c69e-4c87-8785-4a2bc7479052"
      },
      "execution_count": null,
      "outputs": [
        {
          "output_type": "stream",
          "name": "stdout",
          "text": [
            "\n",
            "Calling the Vehicle show method to print car details\n",
            "Details:  Car Black 20000\n",
            "\n",
            "Calling the overriden methods from Car sub class\n",
            "Car max speed is 200KMPH\n",
            "This car changes 7 gear\n",
            "\n",
            "Calling the Vehicle show method\n",
            "Details:  Truck White 75000\n",
            "\n",
            "Calling the methods from Vehicle super class\n",
            "Vehicle max speed is 150KMPH\n",
            "This vehicle changes 6 gear\n"
          ]
        }
      ]
    },
    {
      "cell_type": "markdown",
      "source": [
        "Built-in overriden methods:\n",
        "\n",
        "len( ),\n",
        "abs( ),\n",
        "divmod( )"
      ],
      "metadata": {
        "id": "CHv1mSs0YXV9"
      }
    },
    {
      "cell_type": "markdown",
      "source": [
        "__2)Polymorphism in Class Methods__\n",
        "\n",
        "-Group different objects having same method.\n",
        "\n",
        "-Add them to a list or tuple.\n",
        "\n",
        "-Python itself checks the object at runtime and calls the correct method.\n",
        "\n",
        "-Neither inheritence nor linking between the classes is necessary."
      ],
      "metadata": {
        "id": "Sry-qDG5Z4t8"
      }
    },
    {
      "cell_type": "code",
      "source": [
        "class Ferrari:\n",
        "  def fuel_type(self):\n",
        "    print('Petrol')\n",
        "  def max_speed(self):\n",
        "    print('Max speed 350')\n",
        "\n",
        "class BMW:\n",
        "  def fuel_type(self):\n",
        "    print('Diesel')\n",
        "  def max_speed(self):\n",
        "    print('Max speed is 240')\n",
        "\n",
        "ferrari=Ferrari()\n",
        "bmw=BMW()\n",
        "\n",
        "for car in(ferrari,bmw):\n",
        "  print('\\nIterates objects of the same type and \\ncalls methods without checking the class of the object')\n",
        "  car.fuel_type()\n",
        "  car.max_speed()"
      ],
      "metadata": {
        "colab": {
          "base_uri": "https://localhost:8080/"
        },
        "id": "R8yHgPMwLlDp",
        "outputId": "8472d08d-4266-4ec2-9c87-cfc862837765"
      },
      "execution_count": null,
      "outputs": [
        {
          "output_type": "stream",
          "name": "stdout",
          "text": [
            "\n",
            "Iterates objects of the same type and \n",
            "calls methods without checking the class of the object\n",
            "Petrol\n",
            "Max speed 350\n",
            "\n",
            "Iterates objects of the same type and \n",
            "calls methods without checking the class of the object\n",
            "Diesel\n",
            "Max speed is 240\n"
          ]
        }
      ]
    },
    {
      "cell_type": "markdown",
      "source": [
        "__3) Polymorphism with Functions and Objects__\n",
        "\n",
        "Polymorphism within a function that can take any object as a parameter and execute its method without checking its class type.\n",
        "\n",
        "-We can call objects action using the same function instead of repeating method calls."
      ],
      "metadata": {
        "id": "RStCqmBnLlPh"
      }
    },
    {
      "cell_type": "code",
      "source": [
        "class Ferrari:\n",
        "  def fuel_type(self):\n",
        "    print('Petrol')\n",
        "  def max_speed(self):\n",
        "    print('Max speed 350')\n",
        "\n",
        "class BMW:\n",
        "  def fuel_type(self):\n",
        "    print('Diesel')\n",
        "  def max_speed(self):\n",
        "    print('Max speed is 240')\n",
        "\n",
        "def car_details(obj): #function that takes any object as a parameter and escutes it methods without concerning about its class.\n",
        "  obj.fuel_type()\n",
        "  obj.max_speed()\n",
        "\n",
        "ferrari=Ferrari()\n",
        "bmw=BMW()\n",
        "print('Sending ferrari object as a parameter to the car_details function:')\n",
        "car_details(ferrari)\n",
        "\n",
        "print('\\nSending bmw object as a parameter to the car_details function:')\n",
        "car_details(bmw)\n"
      ],
      "metadata": {
        "colab": {
          "base_uri": "https://localhost:8080/"
        },
        "id": "VxgYKG82cq_x",
        "outputId": "3e9cc094-467d-4788-a518-f20dd3aa9104"
      },
      "execution_count": null,
      "outputs": [
        {
          "output_type": "stream",
          "name": "stdout",
          "text": [
            "Sending ferrari object as a parameter to the car_details function:\n",
            "Petrol\n",
            "Max speed 350\n",
            "\n",
            "Sending bmw object as a parameter to the car_details function:\n",
            "Diesel\n",
            "Max speed is 240\n"
          ]
        }
      ]
    },
    {
      "cell_type": "markdown",
      "source": [
        "__3)Polymorphism in Built-in Methods:__\n",
        "\n",
        "reversed(object)\n"
      ],
      "metadata": {
        "id": "vsg7RVqcLlSu"
      }
    },
    {
      "cell_type": "code",
      "source": [
        "students=['Krishna','Arjuna','Bheema']\n",
        "\n",
        "print('Reversed String')\n",
        "for i in reversed('Sree Sai'):\n",
        "  print(i,end=' ')\n",
        "\n",
        "print('\\nReverse List')\n",
        "for i in reversed(['Krishna','Arjuna','Bheema']):\n",
        "  print(i,end=' ')"
      ],
      "metadata": {
        "colab": {
          "base_uri": "https://localhost:8080/"
        },
        "id": "6NSTi0hmeOkU",
        "outputId": "f8556dad-1434-45a6-fb04-9faf391a81ab"
      },
      "execution_count": null,
      "outputs": [
        {
          "output_type": "stream",
          "name": "stdout",
          "text": [
            "Reversed String\n",
            "i a S   e e r S \n",
            "Reverse List\n",
            "Bheema Arjuna Krishna "
          ]
        }
      ]
    },
    {
      "cell_type": "markdown",
      "source": [
        "__4)Method Overloading__\n",
        "Calling the same method with different parameters.\n",
        "\n",
        "-Python doesn't support method overloading, raises TypeError.\n",
        "\n",
        "-Python considers only latest defined method even if you overload the method."
      ],
      "metadata": {
        "id": "ig3SpCBSevdx"
      }
    },
    {
      "cell_type": "code",
      "source": [
        "def addition(a,b):\n",
        "  return a+b\n",
        "def addition(a,b,c):\n",
        "  return a+b+c\n",
        "\n",
        "print(addition(1,2))#throws an error becasue the addition method is overloaded with same name but 3 parameters.\n",
        "print(addition(1,2,3))#executes and generates the result"
      ],
      "metadata": {
        "id": "q8MBCPTXfT6W"
      },
      "execution_count": null,
      "outputs": []
    },
    {
      "cell_type": "markdown",
      "source": [
        "__Overcoming the above problem:__"
      ],
      "metadata": {
        "id": "bCLKsVKhgW4J"
      }
    },
    {
      "cell_type": "code",
      "source": [
        "class Shape:\n",
        "  def area(self,a,b=0): #overcoming the overloading problem by defining parameters with either 0 or None\n",
        "    if b>0:\n",
        "      print('Area of rectangle: ',a*b)\n",
        "    else:\n",
        "      print('Area of square is: ',a**2)\n",
        "square= Shape()\n",
        "square.area(5)\n",
        "\n",
        "rectangle=Shape()\n",
        "rectangle.area(2,3)"
      ],
      "metadata": {
        "colab": {
          "base_uri": "https://localhost:8080/"
        },
        "id": "ggxNS24OfT2b",
        "outputId": "22502764-0f71-40f9-c41d-bf30a5055609"
      },
      "execution_count": null,
      "outputs": [
        {
          "output_type": "stream",
          "name": "stdout",
          "text": [
            "Area of square is:  25\n",
            "Area of rectangle:  6\n"
          ]
        }
      ]
    },
    {
      "cell_type": "markdown",
      "source": [
        "__5)Operator Overloading__: Changing the behavior of the operator depending on the operands we use."
      ],
      "metadata": {
        "id": "Yoo8o4QhhOUq"
      }
    },
    {
      "cell_type": "code",
      "source": [
        "class Book:\n",
        "  def __init__(self,pages):\n",
        "    self.pages=pages\n",
        "\n",
        "  def __add__(self,other): #over loading the addition using magical add method\n",
        "    return self.pages+other.pages\n",
        "\n",
        "b1=Book(900)\n",
        "b2=Book(900)\n",
        "print('Total number of pages: ',b1+b2) #adding 2 objects"
      ],
      "metadata": {
        "id": "QyxwLdiFfTyt"
      },
      "execution_count": null,
      "outputs": []
    },
    {
      "cell_type": "code",
      "source": [
        "class Employee:\n",
        "\n",
        "  def __init__(self,name,salary):\n",
        "    self.name=name\n",
        "    self.salary=salary\n",
        "\n",
        "class Timesheets:\n",
        "\n",
        "  def __init__(self,name,days_worked):\n",
        "    self.name=name\n",
        "    self.days_worked=days_worked\n",
        "\n",
        "  def __mul__(self,other):\n",
        "    return self.days_worked * other.salary\n",
        "\n",
        "\n",
        "ts=Timesheets('Jessa',50)\n",
        "emp=Employee('Jessa',800)\n",
        "print('This month salary is: ',ts*emp)\n",
        "\n"
      ],
      "metadata": {
        "colab": {
          "base_uri": "https://localhost:8080/"
        },
        "id": "uTkU-HT4ixQB",
        "outputId": "e332a4ab-63ba-4b3b-9a5e-0512f5846346"
      },
      "execution_count": null,
      "outputs": [
        {
          "output_type": "stream",
          "name": "stdout",
          "text": [
            "This month salary is:  40000\n"
          ]
        }
      ]
    },
    {
      "cell_type": "markdown",
      "source": [
        "__MAGIC METHODS__:\n",
        "\n",
        "ddition\t+\t__add__(self, other)\n",
        "\n",
        "Subtraction\t-\t__sub__(self, other)\n",
        "\n",
        "Multiplication\t*\t__mul__(self, other)\n",
        "\n",
        "Division\t/\t__div__(self, other)\n",
        "\n",
        "Floor Division\t//\t__floordiv__(self,other)\n",
        "\n",
        "Modulus\t%\t__mod__(self, other)\n",
        "\n",
        "Power\t**\t__pow__(self, other)\n",
        "\n",
        "Increment\t+=\t__iadd__(self, other)\n",
        "\n",
        "Decrement\t-=\t__isub__(self, other)\n",
        "\n",
        "Product\t*=\t__imul__(self, other)\n",
        "\n",
        "Division\t/+\t__idiv__(self, other)\n",
        "\n",
        "Modulus\t%=\t__imod__(self, other)\n",
        "\n",
        "Power\t**=\t__ipow__(self, other)\n",
        "\n",
        "Less than\t<\t__lt__(self, other)\n",
        "\n",
        "Greater than\t>\t__gt__(self, other)\n",
        "\n",
        "Less than or equal to\t<=\t__le__(self, other)\n",
        "\n",
        "Greater than or equal to\t>=\t__ge__(self, other)\n",
        "\n",
        "Equal to\t==\t__eq__(self, other)\n",
        "\n",
        "Not equal\t!=\t__ne__(self, other)"
      ],
      "metadata": {
        "id": "9MBqdyR2iWjt"
      }
    },
    {
      "cell_type": "markdown",
      "source": [
        "#INHERITENCE"
      ],
      "metadata": {
        "id": "XCWBf8KHk8FG"
      }
    },
    {
      "cell_type": "markdown",
      "source": [
        "Resudability of the code, use the existing class to create a new class instead of creating from scratch."
      ],
      "metadata": {
        "id": "AjM7JzzzlEZ_"
      }
    },
    {
      "cell_type": "markdown",
      "source": [
        "__1)Single Inheritence__(Father,Son)\n"
      ],
      "metadata": {
        "id": "qrlt9XLSmLXY"
      }
    },
    {
      "cell_type": "code",
      "source": [
        "# Base class\n",
        "class Vehicle:\n",
        "    def Vehicle_info(self):\n",
        "        print('Inside Vehicle class')\n",
        "\n",
        "# Child class\n",
        "class Car(Vehicle):\n",
        "    def car_info(self):\n",
        "        print('Inside Car class')\n",
        "\n",
        "# Create object of Car\n",
        "car = Car()\n",
        "\n",
        "# access Vehicle's info using car object\n",
        "car.Vehicle_info()\n",
        "car.car_info()"
      ],
      "metadata": {
        "colab": {
          "base_uri": "https://localhost:8080/"
        },
        "id": "i2RLb8j1mSSV",
        "outputId": "a25275ee-d12f-4b9a-b5da-79df7728181f"
      },
      "execution_count": null,
      "outputs": [
        {
          "output_type": "stream",
          "name": "stdout",
          "text": [
            "Inside Vehicle class\n",
            "Inside Car class\n"
          ]
        }
      ]
    },
    {
      "cell_type": "markdown",
      "source": [
        "__2)Multiple Inheritence__ (mother,father,son)\n"
      ],
      "metadata": {
        "id": "uP7X44b0mLS-"
      }
    },
    {
      "cell_type": "code",
      "source": [
        "# Parent class 1\n",
        "class Person:\n",
        "    def person_info(self, name, age):\n",
        "        print('Inside Person class')\n",
        "        print('Name:', name, 'Age:', age)\n",
        "\n",
        "# Parent class 2\n",
        "class Company:\n",
        "    def company_info(self, company_name, location):\n",
        "        print('Inside Company class')\n",
        "        print('Name:', company_name, 'location:', location)\n",
        "\n",
        "# Child class\n",
        "class Employee(Person, Company):\n",
        "    def Employee_info(self, salary, skill):\n",
        "        print('Inside Employee class')\n",
        "        print('Salary:', salary, 'Skill:', skill)\n",
        "\n",
        "# Create object of Employee\n",
        "emp = Employee()\n",
        "\n",
        "# access data\n",
        "emp.person_info('Jessa', 28)\n",
        "emp.company_info('Google', 'Atlanta')\n",
        "emp.Employee_info(12000, 'Machine Learning')\n"
      ],
      "metadata": {
        "colab": {
          "base_uri": "https://localhost:8080/"
        },
        "id": "J4VFIQgdkaYy",
        "outputId": "edad95c6-2245-4d23-f531-2cee47da609a"
      },
      "execution_count": null,
      "outputs": [
        {
          "output_type": "stream",
          "name": "stdout",
          "text": [
            "Inside Person class\n",
            "Name: Jessa Age: 28\n",
            "Inside Company class\n",
            "Name: Google location: Atlanta\n",
            "Inside Employee class\n",
            "Salary: 12000 Skill: Machine Learning\n"
          ]
        }
      ]
    },
    {
      "cell_type": "markdown",
      "source": [
        "__3)Multi level Inheritence__(Grandpa,father,son)"
      ],
      "metadata": {
        "id": "ICSWAWyYmu-v"
      }
    },
    {
      "cell_type": "code",
      "source": [
        "# Base class\n",
        "class Vehicle:\n",
        "    def Vehicle_info(self):\n",
        "        print('Inside Vehicle class')\n",
        "\n",
        "# Child class\n",
        "class Car(Vehicle):\n",
        "    def car_info(self):\n",
        "        print('Inside Car class')\n",
        "\n",
        "# Child class\n",
        "class SportsCar(Car):\n",
        "    def sports_car_info(self):\n",
        "        print('Inside SportsCar class')\n",
        "\n",
        "# Create object of SportsCar\n",
        "s_car = SportsCar()\n",
        "\n",
        "# access Vehicle's and Car info using SportsCar object\n",
        "s_car.Vehicle_info()\n",
        "s_car.car_info()\n",
        "s_car.sports_car_info()\n"
      ],
      "metadata": {
        "colab": {
          "base_uri": "https://localhost:8080/"
        },
        "id": "s9aqR3h0mus7",
        "outputId": "cc67bb23-6d4b-4505-cf1e-924151609cb9"
      },
      "execution_count": null,
      "outputs": [
        {
          "output_type": "stream",
          "name": "stdout",
          "text": [
            "Inside Vehicle class\n",
            "Inside Car class\n",
            "Inside SportsCar class\n"
          ]
        }
      ]
    },
    {
      "cell_type": "markdown",
      "source": [
        "__4)Hierarchical Inheritance__:\n",
        "(Father,son1,son2)"
      ],
      "metadata": {
        "id": "PVI732wvnCkV"
      }
    },
    {
      "cell_type": "code",
      "source": [
        "class Vehicle:\n",
        "    def info(self):\n",
        "        print(\"This is Vehicle\")\n",
        "\n",
        "class Car(Vehicle):\n",
        "    def car_info(self, name):\n",
        "        print(\"Car name is:\", name)\n",
        "\n",
        "class Truck(Vehicle):\n",
        "    def truck_info(self, name):\n",
        "        print(\"Truck name is:\", name)\n",
        "\n",
        "obj1 = Car()\n",
        "obj1.info()\n",
        "obj1.car_info('BMW')\n",
        "\n",
        "\n",
        "obj2 = Truck()\n",
        "obj2.info()\n",
        "obj2.truck_info('Ford')"
      ],
      "metadata": {
        "id": "SEFVDH_ymtsJ",
        "colab": {
          "base_uri": "https://localhost:8080/"
        },
        "outputId": "fe9ca1a1-4840-4f38-f3d5-3056e56b0e3b"
      },
      "execution_count": null,
      "outputs": [
        {
          "output_type": "stream",
          "name": "stdout",
          "text": [
            "This is Vehicle\n",
            "Car name is: BMW\n",
            "This is Vehicle\n",
            "Truck name is: Ford\n"
          ]
        }
      ]
    },
    {
      "cell_type": "markdown",
      "source": [
        "__5)Hybrid Inheritence__\n",
        "combination of different inheritance is called hybrid inheritance."
      ],
      "metadata": {
        "id": "uk_xWUIwmt2s"
      }
    },
    {
      "cell_type": "code",
      "source": [
        "class Vehicle:\n",
        "  def Vehicle_info(self):\n",
        "    print(\"Inside Vehiclce class\")\n",
        "\n",
        "class Car(Vehicle): #hierarchical Inheritance\n",
        "  def car_info(self):\n",
        "    print(\"Inside Car Class\")\n",
        "\n",
        "class Truck(Vehicle): #hierarchical Inheritance\n",
        "  def truck_info(self):\n",
        "    print(\"Inside Truck Class\")\n",
        "\n",
        "class SportsCar(Car,Vehicle): #Multiple Inheritance\n",
        "  def sports_car_info(self):\n",
        "    print(\"inside sports car class\")\n",
        "\n",
        "c=SportsCar()\n",
        "c.Vehicle_info()\n",
        "c.car_info()\n"
      ],
      "metadata": {
        "id": "LB1QNzDcncVL",
        "colab": {
          "base_uri": "https://localhost:8080/"
        },
        "outputId": "10f4f1c4-3b1c-4b22-bcd2-611f3c9ecc3f"
      },
      "execution_count": null,
      "outputs": [
        {
          "output_type": "stream",
          "name": "stdout",
          "text": [
            "Inside Vehiclce class\n",
            "Inside Car Class\n"
          ]
        }
      ]
    },
    {
      "cell_type": "markdown",
      "source": [
        "__Python super( ) function:__\n",
        "\n",
        "-no need to remember the parent class name to access its methods\n",
        "\n",
        "-can be used in single,multiple inheritances\n",
        "\n",
        "-supports code reusability"
      ],
      "metadata": {
        "id": "JxQApLFCpIQI"
      }
    },
    {
      "cell_type": "code",
      "source": [
        "class Company:\n",
        "    def company_name(self):\n",
        "        return 'Google'\n",
        "\n",
        "class Employee(Company):\n",
        "    def info(self):\n",
        "        # Calling the superclass method using super()function\n",
        "        c_name = super().company_name()\n",
        "        print(\"Jessa works at\", c_name)\n",
        "\n",
        "# Creating object of child class\n",
        "emp = Employee()\n",
        "emp.info()"
      ],
      "metadata": {
        "colab": {
          "base_uri": "https://localhost:8080/"
        },
        "id": "t8rnWrrBrtV-",
        "outputId": "25e8221b-6e53-4e31-89e1-4a5c0bf72774"
      },
      "execution_count": null,
      "outputs": [
        {
          "output_type": "stream",
          "name": "stdout",
          "text": [
            "Jessa works at Google\n"
          ]
        }
      ]
    },
    {
      "cell_type": "markdown",
      "source": [
        "__issubclass__(class, classinfo)\n",
        "\n",
        "class: class to be checked.\n",
        "\n",
        "classinfo: a class, type, or a tuple of classes or data types"
      ],
      "metadata": {
        "id": "RZy8NZCnrdYg"
      }
    },
    {
      "cell_type": "markdown",
      "source": [
        "__Method Resolution Order in Python(Multiple Inheritance)__\n",
        "\n",
        "Reason:Single method found in multiple classes.\n",
        "\n",
        "1)Search within a class.\n",
        "\n",
        "2)Then search in the super class in left to right order."
      ],
      "metadata": {
        "id": "0faEdIXaqG-r"
      }
    },
    {
      "cell_type": "code",
      "source": [
        "class A:\n",
        "    def process(self):\n",
        "        print(\" In class A\")\n",
        "\n",
        "class B(A):\n",
        "    def process(self):\n",
        "        print(\" In class B\")\n",
        "\n",
        "class C(B, A):\n",
        "    def process(self):\n",
        "        print(\" In class C\")\n",
        "\n",
        "# Creating object of C class\n",
        "C1 = C()\n",
        "C1.process()\n",
        "print(C.mro())\n"
      ],
      "metadata": {
        "colab": {
          "base_uri": "https://localhost:8080/"
        },
        "id": "i_k8OLY0pOaX",
        "outputId": "2e385ce0-d943-4d47-8059-3a3ffbdfe72f"
      },
      "execution_count": null,
      "outputs": [
        {
          "output_type": "stream",
          "name": "stdout",
          "text": [
            " In class C\n",
            "[<class '__main__.C'>, <class '__main__.B'>, <class '__main__.A'>, <class 'object'>]\n"
          ]
        }
      ]
    }
  ]
}